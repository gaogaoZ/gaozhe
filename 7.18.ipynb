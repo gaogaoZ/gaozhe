{
 "cells": [
  {
   "cell_type": "markdown",
   "metadata": {},
   "source": [
    "# 选择\n",
    "## 布尔类型、数值和表达式\n",
    "![](../Photo/33.png)\n",
    "- 注意：比较运算符的相等是两个等到，一个等到代表赋值\n",
    "- 在Python中可以用整型0来代表False，其他数字来代表True\n",
    "- 后面还会讲到 is 在判断语句中的用发"
   ]
  },
  {
   "cell_type": "code",
   "execution_count": null,
   "metadata": {},
   "outputs": [],
   "source": [
    "\n",
    "#b=input('输入密码')\n",
    "#if b == str(123456):\n",
    "a = 100\n",
    "c=eval(input('取钱数'))\n",
    "if c <= 100 :\n",
    "    e=a-c\n",
    "    a=e\n",
    "    print('余额为',a-c)\n",
    "else :\n",
    "        print ('余额不足')\n",
    "#else :\n",
    "#    print ('密码错误，请重新输入！')"
   ]
  },
  {
   "cell_type": "markdown",
   "metadata": {},
   "source": [
    "## 字符串的比较使用ASCII值"
   ]
  },
  {
   "cell_type": "markdown",
   "metadata": {},
   "source": [
    "## Markdown \n",
    "- https://github.com/younghz/Markdown"
   ]
  },
  {
   "cell_type": "markdown",
   "metadata": {},
   "source": [
    "## EP:\n",
    "- <img src=\"../Photo/34.png\"></img>\n",
    "- 输入一个数字，判断其实奇数还是偶数"
   ]
  },
  {
   "cell_type": "markdown",
   "metadata": {},
   "source": [
    "## 产生随机数字\n",
    "- 函数random.randint(a,b) 可以用来产生一个a和b之间且包括a和b的随机整数"
   ]
  },
  {
   "cell_type": "markdown",
   "metadata": {},
   "source": [
    "##  其他random方法\n",
    "- random.random 返回0.0到1.0之间前闭后开区间的随机浮点\n",
    "- random.randrange(a,b) 前闭后开"
   ]
  },
  {
   "cell_type": "code",
   "execution_count": null,
   "metadata": {},
   "outputs": [],
   "source": [
    "import random"
   ]
  },
  {
   "cell_type": "code",
   "execution_count": null,
   "metadata": {},
   "outputs": [],
   "source": [
    "import random\n",
    "random.random( )"
   ]
  },
  {
   "cell_type": "markdown",
   "metadata": {},
   "source": [
    "## EP：\n",
    "- 产生两个随机整数number1和number2，然后显示给用户，使用户输入数字的和，并判定其是否正确\n",
    "- 进阶:写一个随机序号点名程序"
   ]
  },
  {
   "cell_type": "code",
   "execution_count": null,
   "metadata": {},
   "outputs": [],
   "source": [
    "import random\n",
    "num1=random.randint(0,10)\n",
    "num2=random.randint(0,10)\n",
    "print (num1,num2)\n",
    "a=eval(input('a'))\n",
    "if num1+num2==a:\n",
    "    print ('true')\n",
    "else:\n",
    "    print  ('flose')"
   ]
  },
  {
   "cell_type": "code",
   "execution_count": null,
   "metadata": {},
   "outputs": [],
   "source": [
    "import random\n",
    "num1=random.randint(1,10)\n",
    "if num1==9:\n",
    "    num2=random.randint(1,6)\n",
    "    print (num1,num2) \n",
    "elif num1==10:\n",
    "    num2=random.randint(1,4)\n",
    "    print (num1,num2) \n",
    "else :\n",
    "    num2=random.randint(1,5)\n",
    "    print (num1,num2)            "
   ]
  },
  {
   "cell_type": "code",
   "execution_count": null,
   "metadata": {},
   "outputs": [],
   "source": [
    "a=eval(input('chengji'))\n",
    "if a>=90:\n",
    "    print ('A')\n",
    "elif a>=75:\n",
    "    print ('B')\n",
    "elif a>=60:\n",
    "    print ('C')\n",
    "elif a<=60:\n",
    "    print ('D')"
   ]
  },
  {
   "cell_type": "markdown",
   "metadata": {},
   "source": [
    "## if语句\n",
    "- 如果条件正确就执行一个单向if语句，亦即当条件为真的时候才执行if内部的语句\n",
    "- Python有很多选择语句:\n",
    "> - 单向if \n",
    "  - 双向if-else\n",
    "  - 嵌套if\n",
    "  - 多向if-elif-else\n",
    "  \n",
    "- 注意：当语句含有子语句的时候，那么一定至少要有一个缩进，也就是说如果有儿子存在，那么一定要缩进\n",
    "- 切记不可tab键和space混用，单用tab 或者 space\n",
    "- 当你输出的结果是无论if是否为真时都需要显示时，语句应该与if对齐"
   ]
  },
  {
   "cell_type": "markdown",
   "metadata": {},
   "source": [
    "## EP：\n",
    "- 用户输入一个数字，判断其实奇数还是偶数\n",
    "- 进阶：可以查看下4.5实例研究猜生日"
   ]
  },
  {
   "cell_type": "code",
   "execution_count": null,
   "metadata": {},
   "outputs": [],
   "source": [
    "a=input('')"
   ]
  },
  {
   "cell_type": "markdown",
   "metadata": {},
   "source": [
    "## 双向if-else 语句\n",
    "- 如果条件为真，那么走if内部语句，否则走else内部语句"
   ]
  },
  {
   "cell_type": "markdown",
   "metadata": {},
   "source": [
    "## EP：\n",
    "- 产生两个随机整数number1和number2，然后显示给用户，使用户输入数字，并判定其是否正确,如果正确打印“you‘re correct”，否则打印正确错误"
   ]
  },
  {
   "cell_type": "markdown",
   "metadata": {},
   "source": [
    "## 嵌套if 和多向if-elif-else\n",
    "![](../Photo/35.png)"
   ]
  },
  {
   "cell_type": "markdown",
   "metadata": {},
   "source": [
    "## EP：\n",
    "- 提示用户输入一个年份，然后显示表示这一年的动物\n",
    "![](../Photo/36.png)\n",
    "- 计算身体质量指数的程序\n",
    "- BMI = 以千克为单位的体重除以以米为单位的身高\n",
    "![](../Photo/37.png)"
   ]
  },
  {
   "cell_type": "code",
   "execution_count": null,
   "metadata": {},
   "outputs": [],
   "source": [
    "tz=float(input('tizhong'))\n",
    "sg=float(input('shenggao'))\n",
    "BMI=tz/(sg**2)\n",
    "print (BMI)"
   ]
  },
  {
   "cell_type": "code",
   "execution_count": null,
   "metadata": {},
   "outputs": [],
   "source": [
    "a=eval(input('chushengnian'))\n",
    "if a%12==0:\n",
    "    print('hou')\n",
    "elif a%12==1 :\n",
    "      print('ji')\n",
    "elif a%12==2 :\n",
    "      print('guo')\n",
    "elif a%12==3 :\n",
    "      print('zhu')\n",
    "elif  a%12==4:\n",
    "      print('shu')\n",
    "elif a%12==5 :\n",
    "      print('nv')\n",
    "elif a%12==6 :\n",
    "      print('hu')\n",
    "elif a%12==7 :\n",
    "      print('tu')\n",
    "elif  a%12==8:\n",
    "      print('long')\n",
    "elif a%12==9 :\n",
    "      print('she')\n",
    "elif a%12==10: \n",
    "    print('ma')   \n",
    "elif  a%12==11:  \n",
    "      print('yang')"
   ]
  },
  {
   "cell_type": "markdown",
   "metadata": {},
   "source": [
    "## 逻辑运算符\n",
    "![](../Photo/38.png)"
   ]
  },
  {
   "cell_type": "markdown",
   "metadata": {},
   "source": [
    "![](../Photo/39.png)\n",
    "![](../Photo/40.png)"
   ]
  },
  {
   "cell_type": "markdown",
   "metadata": {},
   "source": [
    "## EP：\n",
    "- 判定闰年：一个年份如果能被4整除但不能被100整除，或者能被400整除，那么这个年份就是闰年\n",
    "- 提示用户输入一个年份，并返回是否是闰年\n",
    "- 提示用户输入一个数字，判断其是否为水仙花数"
   ]
  },
  {
   "cell_type": "code",
   "execution_count": null,
   "metadata": {},
   "outputs": [],
   "source": [
    "year=eval (input ('nian'))\n",
    "if year%400== 0 or ( year % 4==0 and year % 100 !=0 ) :\n",
    "    print ('true')\n",
    "else:\n",
    "    print ('false')"
   ]
  },
  {
   "cell_type": "code",
   "execution_count": null,
   "metadata": {},
   "outputs": [],
   "source": [
    "import math\n",
    "num =eval(input('a'))\n",
    "str_num = str (num)\n",
    "bai = int (str_num[0])\n",
    "shi = int (str_num[1])\n",
    "ge = int (str_num[2])\n",
    "if  num == math.pow(bai,3)+  math.pow(shi,3)+ math.pow(ge,3):\n",
    "    print ('asd')\n",
    "\n"
   ]
  },
  {
   "cell_type": "code",
   "execution_count": null,
   "metadata": {},
   "outputs": [],
   "source": [
    "import math\n",
    "for num in range (100,10000):\n",
    "    str_num = str (num)\n",
    "    bai = int (str_num[0])\n",
    "    shi = int (str_num[1])\n",
    "    ge = int (str_num[2])\n",
    "    if  num == math.pow(bai,3)+  math.pow(shi,3)+ math.pow(ge,3):\n",
    "        print ('asd',num)\n"
   ]
  },
  {
   "cell_type": "code",
   "execution_count": null,
   "metadata": {},
   "outputs": [],
   "source": [
    "for a in range (100,10000):\n",
    "    a % 100=b\n",
    "    (a%100)//10=c\n",
    "    a%10=d\n",
    "    if (b**3)+(c**3)+(d**3)==a:\n",
    "        print(a)"
   ]
  },
  {
   "cell_type": "markdown",
   "metadata": {},
   "source": [
    "## 实例研究：彩票\n",
    "![](../Photo/41.png)"
   ]
  },
  {
   "cell_type": "code",
   "execution_count": null,
   "metadata": {},
   "outputs": [],
   "source": [
    "import random\n",
    "a=random.randint(10,100)\n",
    "print (a)\n",
    "c=str(a//10)\n",
    "d=str(a%10)\n",
    "b=eval(input('b'))\n",
    "n=str(b//10)\n",
    "m=str(b%10)\n",
    "if a==b:\n",
    "    print ('10000')\n",
    "elif a==int(m+n):\n",
    "    print ('3000')\n",
    "if (d==n or d==m) or (c==n or c== n):\n",
    "    print ('1000')\n",
    "else :\n",
    "    print ('Thank you!!!')"
   ]
  },
  {
   "cell_type": "code",
   "execution_count": null,
   "metadata": {},
   "outputs": [],
   "source": [
    "12-21"
   ]
  },
  {
   "cell_type": "markdown",
   "metadata": {},
   "source": [
    "# Homework\n",
    "- 1\n",
    "![](../Photo/42.png)"
   ]
  },
  {
   "cell_type": "code",
   "execution_count": null,
   "metadata": {},
   "outputs": [],
   "source": [
    "import math\n",
    "a,b,c=eval(input('Enter a,b,c:'))\n",
    "z=(b**2)-4*a*c\n",
    "\n",
    "if z>0:\n",
    "    n=(-b+math.sqrt(z))/(2*a)\n",
    "    m=(-b-math.sqrt(z))/(2*a)\n",
    "    print ('zheng',str(n),str(m) [:9])\n",
    "if z==0:\n",
    "    n=(-b+math.sqrt(z))/(2*a)\n",
    "    print ('0',int(n))\n",
    "if z<0:\n",
    "    print ('fu','The equation has no real roots')\n",
    "\n",
    "\n"
   ]
  },
  {
   "cell_type": "code",
   "execution_count": null,
   "metadata": {},
   "outputs": [],
   "source": []
  },
  {
   "cell_type": "markdown",
   "metadata": {},
   "source": [
    "- 2\n",
    "![](../Photo/43.png)"
   ]
  },
  {
   "cell_type": "code",
   "execution_count": null,
   "metadata": {},
   "outputs": [],
   "source": [
    "import random\n",
    "a=random.randint(10,100)\n",
    "b=random.randint(10,100)\n",
    "print (a,b)\n",
    "c=eval(input('c'))\n",
    "if a+b==c :\n",
    "    print('true')\n",
    "else:\n",
    "    print ('false')"
   ]
  },
  {
   "cell_type": "code",
   "execution_count": null,
   "metadata": {},
   "outputs": [],
   "source": []
  },
  {
   "cell_type": "markdown",
   "metadata": {},
   "source": [
    "- 3\n",
    "![](../Photo/44.png)"
   ]
  },
  {
   "cell_type": "code",
   "execution_count": null,
   "metadata": {},
   "outputs": [],
   "source": [
    "a=eval(input('今天是星期'))\n",
    "b=eval(input('未来某天'))\n",
    "c=(a+b)%7\n",
    "if c==0:\n",
    "    print ('未来',b,'天是星期日')\n",
    "else:\n",
    "    print ('未来',b,'天是星期',c)"
   ]
  },
  {
   "cell_type": "code",
   "execution_count": null,
   "metadata": {},
   "outputs": [],
   "source": []
  },
  {
   "cell_type": "markdown",
   "metadata": {},
   "source": [
    "- 4\n",
    "![](../Photo/45.png)"
   ]
  },
  {
   "cell_type": "code",
   "execution_count": null,
   "metadata": {},
   "outputs": [],
   "source": [
    "a,b,c=eval(input('zhengshu'))\n",
    "w=''\n",
    "if a<b:\n",
    "    w=a\n",
    "    a=b\n",
    "    b=w\n",
    "if a<c:\n",
    "    w=a\n",
    "    a=c\n",
    "    c=w\n",
    "if b<c:\n",
    "    w=b\n",
    "    b=c\n",
    "    c=w\n",
    "    print (a,b,c)"
   ]
  },
  {
   "cell_type": "code",
   "execution_count": null,
   "metadata": {},
   "outputs": [],
   "source": []
  },
  {
   "cell_type": "markdown",
   "metadata": {},
   "source": [
    "- 5\n",
    "![](../Photo/46.png)"
   ]
  },
  {
   "cell_type": "code",
   "execution_count": null,
   "metadata": {},
   "outputs": [],
   "source": [
    "a,b=eval(input('Enter weight and price for package 1:'))\n",
    "c,d=eval(input('Enter weight and price for package 2:'))\n",
    "n=float(a/b)\n",
    "m=float(c/d)\n",
    "if n<m:\n",
    "    print('package 1 has the better price')\n",
    "if n==m:\n",
    "    print ('Same as two bags')\n",
    "if n>m:\n",
    "    print ('package 2 has the better price')"
   ]
  },
  {
   "cell_type": "code",
   "execution_count": null,
   "metadata": {},
   "outputs": [],
   "source": []
  },
  {
   "cell_type": "markdown",
   "metadata": {},
   "source": [
    "- 6\n",
    "![](../Photo/47.png)"
   ]
  },
  {
   "cell_type": "code",
   "execution_count": null,
   "metadata": {},
   "outputs": [],
   "source": [
    "a = [1,3, 5,7,8,10,12]\n",
    "1 in a"
   ]
  },
  {
   "cell_type": "code",
   "execution_count": 1,
   "metadata": {},
   "outputs": [
    {
     "name": "stdout",
     "output_type": "stream",
     "text": [
      "mount and year2,2001\n",
      "2001 2 28\n"
     ]
    }
   ],
   "source": [
    "mount,year=eval (input ('mount and year'))\n",
    "a = [1,3, 5,7,8,10,12]\n",
    "b = [4,6,9,11]\n",
    "if mount in a :\n",
    "    day=31\n",
    "if mount in  b:\n",
    "    day=30\n",
    "if mount==2:\n",
    "    if ( year % 4==0 and year % 100 !=0 ) or year % 400 == 0 :\n",
    "        day=29\n",
    "    else:\n",
    "        day=28\n",
    "print(year,mount,day)"
   ]
  },
  {
   "cell_type": "code",
   "execution_count": null,
   "metadata": {},
   "outputs": [],
   "source": []
  },
  {
   "cell_type": "markdown",
   "metadata": {},
   "source": [
    "- 7\n",
    "![](../Photo/48.png)"
   ]
  },
  {
   "cell_type": "code",
   "execution_count": null,
   "metadata": {},
   "outputs": [],
   "source": [
    "import random\n",
    "a=int(input('z(1),f(0):'))\n",
    "num=int(random.randint(0,1))\n",
    "print (num)\n",
    "if a==num:\n",
    "    print ('ok')\n",
    "else :\n",
    "    print ('false')"
   ]
  },
  {
   "cell_type": "code",
   "execution_count": null,
   "metadata": {},
   "outputs": [],
   "source": []
  },
  {
   "cell_type": "markdown",
   "metadata": {},
   "source": [
    "- 8\n",
    "![](../Photo/49.png)"
   ]
  },
  {
   "cell_type": "code",
   "execution_count": null,
   "metadata": {},
   "outputs": [],
   "source": [
    "import random\n",
    "a=int(input('scissor(0),rock(1),paper(2):'))\n",
    "num=int(random.randint(0,2))\n",
    "print (num)\n",
    "if num==0:\n",
    "    n='scissor'\n",
    "if num==1:\n",
    "    n='rock'\n",
    "if num==2:\n",
    "    n='paper'\n",
    "    \n",
    "if a==0:\n",
    "    m='scissor'\n",
    "if a==1:\n",
    "    m='rock'\n",
    "if a==2:\n",
    "    m='paper'\n",
    "if a==num :\n",
    "    print ('The computer is ',n,'.','You are',m,'too. It is a draw.')\n",
    "if (a==0 and num==1)or (a==1 and num==2) or (a==2 and num==0):\n",
    "    print ('The computer is ',n,'.','You are',m,'. Computer won.')\n",
    "if (a==1 and num==0)or (a==2 and num==1) or (a==0 and num==2):\n",
    "    print ('The computer is ',n,'.','You are',m,'. You won.')"
   ]
  },
  {
   "cell_type": "code",
   "execution_count": null,
   "metadata": {},
   "outputs": [],
   "source": []
  },
  {
   "cell_type": "markdown",
   "metadata": {},
   "source": [
    "- 9\n",
    "![](../Photo/50.png)"
   ]
  },
  {
   "cell_type": "code",
   "execution_count": null,
   "metadata": {},
   "outputs": [],
   "source": [
    "\n",
    "h=(q+((26*(m+1))/10)+k+(k/4)+(j/4)+5*j)%7\n",
    "\n"
   ]
  },
  {
   "cell_type": "code",
   "execution_count": 3,
   "metadata": {},
   "outputs": [
    {
     "name": "stdout",
     "output_type": "stream",
     "text": [
      "输入年份：2018\n",
      "输入月份：8\n",
      "输入当前月份的某天：29\n",
      "Day of the week is 星期三\n"
     ]
    }
   ],
   "source": [
    "year = eval(input('输入年份：'))\n",
    "months = eval(input('输入月份：'))\n",
    "days = eval(input('输入当前月份的某天：'))\n",
    "hdayDict = {0:'星期六',1:'星期日', 2: '星期一', 3: '星期二', 4: '星期三', 5: '星期四', 6: '星期五'}\n",
    "monDict = {1: '13', 2: '14', 3: '3', 4: '4', 5: '5', 6: '6', 7: '7', 8: '8', 9: '9', 10: '10', \\\n",
    "             11: '11', 12: '12'}\n",
    "if months == 1 or months == 2:\n",
    "    year = year - 1 \n",
    "shijishu = year // 100\n",
    "shijiyear = year % 100\n",
    "h = (days + (26 * (eval(monDict[months]) + 1)) // 10 + shijiyear + shijiyear // 4 + shijishu // 4 + 5 * shijishu) % 7\n",
    "print('Day of the week is ' + hdayDict[h])"
   ]
  },
  {
   "cell_type": "markdown",
   "metadata": {},
   "source": [
    "- 10\n",
    "![](../Photo/51.png)"
   ]
  },
  {
   "cell_type": "code",
   "execution_count": null,
   "metadata": {},
   "outputs": [],
   "source": [
    "import random\n",
    "a=random.randint(1,52)\n",
    "print(a) \n",
    "if (a%13)==1:\n",
    "    b='Ace'\n",
    "if (a%13)==2:\n",
    "    b=2\n",
    "if (a%13)==3:\n",
    "    b=3\n",
    "if (a%13)==4:\n",
    "    b=4\n",
    "if (a%13)==5:\n",
    "    b=5    \n",
    "if (a%13)==6:\n",
    "    b=6    \n",
    "if (a%13)==7:\n",
    "    b=7   \n",
    "if (a%13)==8:\n",
    "    b=8    \n",
    "if (a%13)==9:\n",
    "    b=9    \n",
    "if (a%13)==10:\n",
    "    b=10    \n",
    "if (a%13)==11:\n",
    "    b='Jack '   \n",
    "if (a%13)==12:\n",
    "    b='Queen'  \n",
    "if (a%13)==0:\n",
    "    b='King'      \n",
    "if(a//13)==1:\n",
    "    c='hongtao'\n",
    "if(a//13)==2:\n",
    "    c='heitao'\n",
    "if(a//13)==3:\n",
    "    c='fangpian'    \n",
    "if(a//13)==4:\n",
    "    c='meihua'\n",
    "print ('The card you picked is the',b,'of',c)"
   ]
  },
  {
   "cell_type": "markdown",
   "metadata": {},
   "source": [
    "- 11\n",
    "![](../Photo/52.png)"
   ]
  },
  {
   "cell_type": "code",
   "execution_count": null,
   "metadata": {},
   "outputs": [],
   "source": [
    "num =eval(input('Enter a three-digit integer'))\n",
    "str_num = str(num)\n",
    "a=int(str_num[0])\n",
    "b=int(str_num[2])\n",
    "if a==b:\n",
    "    print (num ,'is a palindrome')\n",
    "else:\n",
    "    print (num ,'is not a palindrome')"
   ]
  },
  {
   "cell_type": "code",
   "execution_count": null,
   "metadata": {},
   "outputs": [],
   "source": []
  },
  {
   "cell_type": "markdown",
   "metadata": {},
   "source": [
    "- 12\n",
    "![](../Photo/53.png)"
   ]
  },
  {
   "cell_type": "code",
   "execution_count": null,
   "metadata": {},
   "outputs": [],
   "source": [
    "a,b,c=eval(input('Enter three edges:'))\n",
    "if (a+b>c) and (b+c>a) and (a+c>b):\n",
    "    print ('The perimeter is ',a+b+c)\n",
    "else :\n",
    "    print ('非法输入！！！')"
   ]
  },
  {
   "cell_type": "code",
   "execution_count": null,
   "metadata": {},
   "outputs": [],
   "source": []
  }
 ],
 "metadata": {
  "kernelspec": {
   "display_name": "Python 3",
   "language": "python",
   "name": "python3"
  },
  "language_info": {
   "codemirror_mode": {
    "name": "ipython",
    "version": 3
   },
   "file_extension": ".py",
   "mimetype": "text/x-python",
   "name": "python",
   "nbconvert_exporter": "python",
   "pygments_lexer": "ipython3",
   "version": "3.6.4"
  }
 },
 "nbformat": 4,
 "nbformat_minor": 2
}
