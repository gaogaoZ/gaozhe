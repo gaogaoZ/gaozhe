{
 "cells": [
  {
   "cell_type": "markdown",
   "metadata": {},
   "source": [
    "# 函数\n",
    "\n",
    "- 函数可以用来定义可重复代码，组织和简化\n",
    "- 一般来说一个函数在实际开发中为一个小功能\n",
    "- 一个类为一个大功能\n",
    "- 同样函数的长度不要超过一屏"
   ]
  },
  {
   "cell_type": "code",
   "execution_count": 75,
   "metadata": {},
   "outputs": [
    {
     "data": {
      "text/plain": [
       "'9ce68bf7aee21ff56acf75f4fd4f8bec'"
      ]
     },
     "execution_count": 75,
     "metadata": {},
     "output_type": "execute_result"
    }
   ],
   "source": [
    "import hashlib\n",
    "data = 'GGGGGGG'\n",
    "hash_md5 = hashlib.md5(data.encode())\n",
    "hash_md5.hexdigest()"
   ]
  },
  {
   "cell_type": "code",
   "execution_count": 6,
   "metadata": {},
   "outputs": [],
   "source": [
    "def ou(shu):\n",
    "    print ('偶数')\n",
    "def ji(shu):\n",
    "    print ('奇数')"
   ]
  },
  {
   "cell_type": "code",
   "execution_count": 9,
   "metadata": {},
   "outputs": [
    {
     "name": "stdout",
     "output_type": "stream",
     "text": [
      ">>>>1\n",
      "奇数\n"
     ]
    }
   ],
   "source": [
    "shu = int (input('>>>>'))\n",
    "if shu%2==0:\n",
    "    ou(shu)\n",
    "else :\n",
    "    ji(shu)"
   ]
  },
  {
   "cell_type": "code",
   "execution_count": 2,
   "metadata": {},
   "outputs": [],
   "source": [
    "def panduan (shu,is_print =True):\n",
    "    if shu %2 ==0:\n",
    "        if is_print:\n",
    "            print ('ou')"
   ]
  },
  {
   "cell_type": "code",
   "execution_count": 4,
   "metadata": {
    "scrolled": true
   },
   "outputs": [
    {
     "name": "stdout",
     "output_type": "stream",
     "text": [
      ">>>>2\n",
      "ou\n"
     ]
    }
   ],
   "source": [
    "shu = int (input('>>>>'))\n",
    "panduan(shu,is_print =True)"
   ]
  },
  {
   "cell_type": "markdown",
   "metadata": {},
   "source": [
    "## 定义一个函数\n",
    "\n",
    "def function_name(list of parameters):\n",
    "    \n",
    "    do something\n",
    "![](../Photo/69.png)\n",
    "- 以前使用的random 或者range 或者print.. 其实都是函数或者类"
   ]
  },
  {
   "cell_type": "code",
   "execution_count": 76,
   "metadata": {},
   "outputs": [],
   "source": [
    "import hashlib\n",
    "\n",
    "# -------数据库里面的密码---------\n",
    "data =  'huhuhu'\n",
    "hash_md5 = hashlib.md5(data.encode())\n",
    "init_password = hash_md5.hexdigest()\n",
    "\n",
    "\n",
    "# -------ajax登录的明文密码-------\n",
    "def password(passw):\n",
    "    md5(passw)  # 进行MD5摘要\n",
    "\n",
    "# ----------MD5摘要--------------- \n",
    "def md5(passw):\n",
    "    hash_md5 = hashlib.md5(passw.encode())\n",
    "    input_password = hash_md5.hexdigest() # 输入的MD5摘要密码\n",
    "    if init_password == input_password:\n",
    "        result('OK')\n",
    "    else:\n",
    "        result('Faild')\n",
    "    \n",
    "def result(res):\n",
    "    print(res)"
   ]
  },
  {
   "cell_type": "code",
   "execution_count": 77,
   "metadata": {},
   "outputs": [
    {
     "name": "stdout",
     "output_type": "stream",
     "text": [
      "OK\n"
     ]
    }
   ],
   "source": [
    "password('huhuhu')"
   ]
  },
  {
   "cell_type": "markdown",
   "metadata": {},
   "source": [
    "## 调用一个函数\n",
    "- functionName()\n",
    "- \"()\" 就代表调用"
   ]
  },
  {
   "cell_type": "markdown",
   "metadata": {},
   "source": [
    "![](../Photo/70.png)"
   ]
  },
  {
   "cell_type": "markdown",
   "metadata": {},
   "source": [
    "## 带返回值和不带返回值的函数\n",
    "- return 返回的内容\n",
    "- return 返回多个值\n",
    "- 一般情况下，在多个函数协同完成一个功能的时候，那么将会有返回值"
   ]
  },
  {
   "cell_type": "markdown",
   "metadata": {},
   "source": [
    "![](../Photo/71.png)\n",
    "\n",
    "- 当然也可以自定义返回None"
   ]
  },
  {
   "cell_type": "markdown",
   "metadata": {},
   "source": [
    "## EP：\n",
    "![](../Photo/72.png)"
   ]
  },
  {
   "cell_type": "markdown",
   "metadata": {},
   "source": [
    "## 类型和关键字参数\n",
    "- 普通参数\n",
    "- 多个参数\n",
    "- 默认值参数\n",
    "- 不定长参数"
   ]
  },
  {
   "cell_type": "markdown",
   "metadata": {},
   "source": [
    "## 普通参数"
   ]
  },
  {
   "cell_type": "markdown",
   "metadata": {},
   "source": [
    "## 多个参数"
   ]
  },
  {
   "cell_type": "markdown",
   "metadata": {},
   "source": [
    "## 默认值参数"
   ]
  },
  {
   "cell_type": "markdown",
   "metadata": {},
   "source": [
    "## 强制命名"
   ]
  },
  {
   "cell_type": "code",
   "execution_count": 78,
   "metadata": {},
   "outputs": [],
   "source": [
    "def test5(*args):\n",
    "    print (args)"
   ]
  },
  {
   "cell_type": "code",
   "execution_count": 80,
   "metadata": {
    "scrolled": true
   },
   "outputs": [
    {
     "name": "stdout",
     "output_type": "stream",
     "text": [
      "(1, 2, 3)\n"
     ]
    }
   ],
   "source": [
    "test5(1,2,3)"
   ]
  },
  {
   "cell_type": "code",
   "execution_count": 97,
   "metadata": {},
   "outputs": [],
   "source": [
    "def test6(*args,name='jhgfdgh'):\n",
    "    print (args,name)"
   ]
  },
  {
   "cell_type": "code",
   "execution_count": 98,
   "metadata": {},
   "outputs": [
    {
     "name": "stdout",
     "output_type": "stream",
     "text": [
      "(1, 2, 2, 3, 4, 5) 6666\n"
     ]
    }
   ],
   "source": [
    "test6 (1,2,2,3,4,5,name='6666')"
   ]
  },
  {
   "cell_type": "code",
   "execution_count": null,
   "metadata": {},
   "outputs": [],
   "source": []
  },
  {
   "cell_type": "markdown",
   "metadata": {},
   "source": [
    "## 不定长参数\n",
    "- \\*args\n",
    "> - 不定长，来多少装多少，不装也是可以的\n",
    "  - 返回的数据类型是元组\n",
    "  - args 名字是可以修改的，只是我们约定俗成的是args\n",
    "- \\**kwargs \n",
    "> - 返回的字典\n",
    "  - 输入的一定要是表达式（键值对）"
   ]
  },
  {
   "cell_type": "code",
   "execution_count": null,
   "metadata": {},
   "outputs": [],
   "source": [
    "def test2(*rags,**kwatgs):\n",
    "    "
   ]
  },
  {
   "cell_type": "code",
   "execution_count": null,
   "metadata": {},
   "outputs": [],
   "source": []
  },
  {
   "cell_type": "markdown",
   "metadata": {},
   "source": [
    "## 变量的作用域\n",
    "- 局部变量 local\n",
    "- 全局变量 global\n",
    "- globals 函数返回一个全局变量的字典，包括所有导入的变量\n",
    "- locals() 函数会以字典类型返回当前位置的全部局部变量。"
   ]
  },
  {
   "cell_type": "markdown",
   "metadata": {},
   "source": [
    "## 注意：\n",
    "- global ：在进行赋值操作的时候需要声明\n",
    "- 官方解释：This is because when you make an assignment to a variable in a scope, that variable becomes local to that scope and shadows any similarly named variable in the outer scope.\n",
    "- ![](../Photo/73.png)"
   ]
  },
  {
   "cell_type": "markdown",
   "metadata": {},
   "source": [
    "# Homework\n",
    "- 1\n",
    "![](../Photo/74.png)"
   ]
  },
  {
   "cell_type": "code",
   "execution_count": 131,
   "metadata": {},
   "outputs": [],
   "source": [
    "def getPentagonalNumber(n):\n",
    "    for n in range(1,100):\n",
    "        #print (n)\n",
    "        if (n-1)%10==0:\n",
    "            print ()\n",
    "        a= int(n*(3*n-1)/2)\n",
    "        print (a,end='       ')"
   ]
  },
  {
   "cell_type": "code",
   "execution_count": 132,
   "metadata": {},
   "outputs": [
    {
     "name": "stdout",
     "output_type": "stream",
     "text": [
      "\n",
      "1       5       12       22       35       51       70       92       117       145       \n",
      "176       210       247       287       330       376       425       477       532       590       \n",
      "651       715       782       852       925       1001       1080       1162       1247       1335       \n",
      "1426       1520       1617       1717       1820       1926       2035       2147       2262       2380       \n",
      "2501       2625       2752       2882       3015       3151       3290       3432       3577       3725       \n",
      "3876       4030       4187       4347       4510       4676       4845       5017       5192       5370       \n",
      "5551       5735       5922       6112       6305       6501       6700       6902       7107       7315       \n",
      "7526       7740       7957       8177       8400       8626       8855       9087       9322       9560       \n",
      "9801       10045       10292       10542       10795       11051       11310       11572       11837       12105       \n",
      "12376       12650       12927       13207       13490       13776       14065       14357       14652       "
     ]
    }
   ],
   "source": [
    "getPentagonalNumber(1)\n"
   ]
  },
  {
   "cell_type": "markdown",
   "metadata": {},
   "source": [
    "- 2 \n",
    "![](../Photo/75.png)"
   ]
  },
  {
   "cell_type": "code",
   "execution_count": 207,
   "metadata": {},
   "outputs": [],
   "source": [
    "\n",
    "def sunDigits(n):\n",
    "    sum=0\n",
    "    for i in range(0,10):\n",
    "        if n<10:\n",
    "           \n",
    "            break\n",
    "        else:\n",
    "            a=n%10\n",
    "            sum=sum + a\n",
    "            n=n//10\n",
    "          \n",
    "    print (sum+n)"
   ]
  },
  {
   "cell_type": "code",
   "execution_count": 208,
   "metadata": {},
   "outputs": [
    {
     "name": "stdout",
     "output_type": "stream",
     "text": [
      "a number:123321\n",
      "12\n"
     ]
    }
   ],
   "source": [
    "n=eval(input('a number:'))\n",
    "sunDigits(n)"
   ]
  },
  {
   "cell_type": "markdown",
   "metadata": {},
   "source": [
    "- 3\n",
    "![](../Photo/76.png)"
   ]
  },
  {
   "cell_type": "code",
   "execution_count": 226,
   "metadata": {},
   "outputs": [],
   "source": [
    "def displaySortedNumbers(num1,num2,num3):\n",
    "    w=''\n",
    "    if num1<num2:\n",
    "        w=num1\n",
    "        num1=num2\n",
    "        num2=w\n",
    "    if num1<num3:\n",
    "        w=num1\n",
    "        num1=num3\n",
    "        num3=w\n",
    "    if num2<num3:\n",
    "        w=num2\n",
    "        num2=num3\n",
    "        num3=w\n",
    "        print (num3,'   ',num2,'   ',num1)"
   ]
  },
  {
   "cell_type": "code",
   "execution_count": 227,
   "metadata": {},
   "outputs": [
    {
     "name": "stdout",
     "output_type": "stream",
     "text": [
      "2.4     3     5\n",
      "12.4     15     21\n"
     ]
    }
   ],
   "source": [
    "\n",
    "displaySortedNumbers(3,2.4,5)\n",
    "\n",
    "displaySortedNumbers(21,12.4,15)"
   ]
  },
  {
   "cell_type": "markdown",
   "metadata": {},
   "source": [
    "- 4\n",
    "![](../Photo/77.png)"
   ]
  },
  {
   "cell_type": "code",
   "execution_count": 8,
   "metadata": {},
   "outputs": [
    {
     "data": {
      "text/plain": [
       "1196.39844"
      ]
     },
     "execution_count": 8,
     "metadata": {},
     "output_type": "execute_result"
    }
   ],
   "source": [
    "1000*(1+0.0938)**2"
   ]
  },
  {
   "cell_type": "code",
   "execution_count": 16,
   "metadata": {},
   "outputs": [],
   "source": [
    "def futureInvestmentValue (investmentAmount,monthlyInterestRate,years):\n",
    "    for i in range(1,years+1):\n",
    "        FutureValue=investmentAmount*(1+monthlyInterestRate)**i\n",
    "        print (i,'    ',FutureValue)\n",
    "        i=i+1"
   ]
  },
  {
   "cell_type": "code",
   "execution_count": 17,
   "metadata": {},
   "outputs": [
    {
     "name": "stdout",
     "output_type": "stream",
     "text": [
      "1      10041.666666666666\n",
      "2      10083.506944444445\n",
      "3      10125.521556712962\n",
      "4      10167.711229865932\n",
      "5      10210.076693323708\n",
      "6      10252.61867954589\n",
      "7      10295.337924043997\n",
      "8      10338.23516539418\n",
      "9      10381.311145249989\n",
      "10      10424.566608355197\n",
      "11      10468.002302556679\n",
      "12      10511.61897881733\n",
      "13      10555.41739122907\n",
      "14      10599.398297025857\n",
      "15      10643.562456596797\n",
      "16      10687.910633499285\n",
      "17      10732.443594472197\n",
      "18      10777.162109449166\n",
      "19      10822.06695157187\n",
      "20      10867.158897203419\n",
      "21      10912.438725941767\n",
      "22      10957.90722063319\n",
      "23      11003.565167385826\n",
      "24      11049.413355583269\n",
      "25      11095.452577898199\n",
      "26      11141.683630306108\n",
      "27      11188.10731209905\n",
      "28      11234.724425899463\n",
      "29      11281.535777674044\n",
      "30      11328.542176747684\n",
      "31      11375.744435817467\n",
      "32      11423.143370966707\n",
      "33      11470.739801679067\n",
      "34      11518.53455085273\n",
      "35      11566.528444814616\n",
      "36      11614.722313334678\n",
      "37      11663.116989640239\n",
      "38      11711.713310430405\n",
      "39      11760.512115890531\n",
      "40      11809.514249706743\n",
      "41      11858.72055908052\n",
      "42      11908.131894743354\n",
      "43      11957.749110971452\n",
      "44      12007.573065600502\n",
      "45      12057.604620040504\n",
      "46      12107.84463929067\n",
      "47      12158.29399195438\n",
      "48      12208.953550254191\n",
      "49      12259.824190046917\n",
      "50      12310.906790838779\n"
     ]
    }
   ],
   "source": [
    "futureInvestmentValue (10000,0.05/12,50)"
   ]
  },
  {
   "cell_type": "markdown",
   "metadata": {},
   "source": [
    "- 5\n",
    "![](../Photo/78.png)"
   ]
  },
  {
   "cell_type": "code",
   "execution_count": 49,
   "metadata": {},
   "outputs": [],
   "source": [
    "def printChars(ch1,ch2,numberPerLine):\n",
    "    n=int(ord(ch2)-ord(ch1))\n",
    "    for i in range(0,n+1):\n",
    "        if (i)%numberPerLine==0:\n",
    "            print ()\n",
    "        print (chr(ord(ch1)+i),end='  ')"
   ]
  },
  {
   "cell_type": "code",
   "execution_count": 52,
   "metadata": {},
   "outputs": [
    {
     "name": "stdout",
     "output_type": "stream",
     "text": [
      "\n",
      "1  2  3  4  5  6  7  8  9  :  \n",
      ";  <  =  >  ?  @  A  B  C  D  \n",
      "E  F  G  H  I  J  K  L  M  N  \n",
      "O  P  Q  R  S  T  U  V  W  X  \n",
      "Y  Z  "
     ]
    }
   ],
   "source": [
    "printChars('1','Z',10)"
   ]
  },
  {
   "cell_type": "markdown",
   "metadata": {},
   "source": [
    "- 6\n",
    "![](../Photo/79.png)"
   ]
  },
  {
   "cell_type": "code",
   "execution_count": 80,
   "metadata": {},
   "outputs": [],
   "source": [
    "def numberOfDaysInAyear(year):\n",
    "    for i in range(11):\n",
    "        if year%400== 0 or ( year % 4==0 and year % 100 !=0 ) :\n",
    "            print (year,'    ',366)\n",
    "        else:\n",
    "            print (year,'    ',365)\n",
    "        year +=1"
   ]
  },
  {
   "cell_type": "code",
   "execution_count": 81,
   "metadata": {},
   "outputs": [
    {
     "name": "stdout",
     "output_type": "stream",
     "text": [
      "2010      365\n",
      "2011      365\n",
      "2012      366\n",
      "2013      365\n",
      "2014      365\n",
      "2015      365\n",
      "2016      366\n",
      "2017      365\n",
      "2018      365\n",
      "2019      365\n",
      "2020      366\n"
     ]
    }
   ],
   "source": [
    "numberOfDaysInAyear(2010)"
   ]
  },
  {
   "cell_type": "code",
   "execution_count": null,
   "metadata": {},
   "outputs": [],
   "source": []
  },
  {
   "cell_type": "markdown",
   "metadata": {},
   "source": [
    "- 7\n",
    "![](../Photo/80.png)"
   ]
  },
  {
   "cell_type": "code",
   "execution_count": 84,
   "metadata": {},
   "outputs": [],
   "source": [
    "import math\n",
    "def distance(x1,y1,x2,y2):\n",
    "    d=math.sqrt(((x1-x2)**2)+((y1-y2)**2))\n",
    "    print (d)"
   ]
  },
  {
   "cell_type": "code",
   "execution_count": 85,
   "metadata": {},
   "outputs": [
    {
     "name": "stdout",
     "output_type": "stream",
     "text": [
      "1.4142135623730951\n"
     ]
    }
   ],
   "source": [
    "distance(1,1,2,2)"
   ]
  },
  {
   "cell_type": "markdown",
   "metadata": {},
   "source": [
    "- 8\n",
    "![](../Photo/81.png)"
   ]
  },
  {
   "cell_type": "code",
   "execution_count": null,
   "metadata": {},
   "outputs": [],
   "source": []
  },
  {
   "cell_type": "code",
   "execution_count": null,
   "metadata": {},
   "outputs": [],
   "source": []
  },
  {
   "cell_type": "markdown",
   "metadata": {},
   "source": [
    "- 9\n",
    "![](../Photo/82.png)\n",
    "![](../Photo/83.png)"
   ]
  },
  {
   "cell_type": "code",
   "execution_count": null,
   "metadata": {},
   "outputs": [],
   "source": [
    "def time.time():\n",
    "    "
   ]
  },
  {
   "cell_type": "code",
   "execution_count": null,
   "metadata": {},
   "outputs": [],
   "source": [
    "time.time(16,2012,10:34)"
   ]
  },
  {
   "cell_type": "markdown",
   "metadata": {},
   "source": [
    "- 10\n",
    "![](../Photo/84.png)"
   ]
  },
  {
   "cell_type": "code",
   "execution_count": 92,
   "metadata": {},
   "outputs": [
    {
     "name": "stdout",
     "output_type": "stream",
     "text": [
      "6 2\n",
      "8\n"
     ]
    }
   ],
   "source": [
    "import random\n",
    "num1=random.randint(1,6)\n",
    "num2=random.randint(1,6)\n",
    "print (num1,num2)\n",
    "a=[2,3,12]\n",
    "b=[7,11]\n",
    "if num1+num2==a:\n",
    "    print ('you win')\n",
    "elif num1+num2==b:\n",
    "    print ('you lose')\n",
    "else:\n",
    "    print (num1+num2)\n",
    "    num3=random.randint(1,6)\n",
    "    num4=random.randint(1,6)\n",
    "    if num3+num4==num1+num2:\n",
    "        print ('you win')\n",
    "    elif num3+num4==7:\n",
    "        print ('you lose')"
   ]
  },
  {
   "cell_type": "code",
   "execution_count": null,
   "metadata": {},
   "outputs": [],
   "source": []
  },
  {
   "cell_type": "markdown",
   "metadata": {},
   "source": [
    "- 11 \n",
    "### 去网上寻找如何用Python代码发送邮件"
   ]
  },
  {
   "cell_type": "code",
   "execution_count": null,
   "metadata": {},
   "outputs": [],
   "source": []
  },
  {
   "cell_type": "code",
   "execution_count": null,
   "metadata": {},
   "outputs": [],
   "source": []
  }
 ],
 "metadata": {
  "kernelspec": {
   "display_name": "Python 3",
   "language": "python",
   "name": "python3"
  },
  "language_info": {
   "codemirror_mode": {
    "name": "ipython",
    "version": 3
   },
   "file_extension": ".py",
   "mimetype": "text/x-python",
   "name": "python",
   "nbconvert_exporter": "python",
   "pygments_lexer": "ipython3",
   "version": "3.6.4"
  }
 },
 "nbformat": 4,
 "nbformat_minor": 2
}
